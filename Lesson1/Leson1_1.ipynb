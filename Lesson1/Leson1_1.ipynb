{
  "nbformat": 4,
  "nbformat_minor": 0,
  "metadata": {
    "colab": {
      "provenance": [],
      "authorship_tag": "ABX9TyNRwcHwqi1GNQl11H1wmFBW",
      "include_colab_link": true
    },
    "kernelspec": {
      "name": "python3",
      "display_name": "Python 3"
    },
    "language_info": {
      "name": "python"
    }
  },
  "cells": [
    {
      "cell_type": "markdown",
      "metadata": {
        "id": "view-in-github",
        "colab_type": "text"
      },
      "source": [
        "<a href=\"https://colab.research.google.com/github/1151184/__2025_05_03_chin_/blob/main/Lesson1/Leson1_1.ipynb\" target=\"_parent\"><img src=\"https://colab.research.google.com/assets/colab-badge.svg\" alt=\"Open In Colab\"/></a>"
      ]
    },
    {
      "cell_type": "markdown",
      "source": [
        "#大標1\n",
        "##大標2\n",
        "###大標3\n",
        "####大標4\n",
        "#####大標5\n",
        "######大標6\n"
      ],
      "metadata": {
        "id": "C1eIdg9MLa5-"
      }
    },
    {
      "cell_type": "code",
      "execution_count": null,
      "metadata": {
        "colab": {
          "base_uri": "https://localhost:8080/"
        },
        "id": "Hn4EjRTJCO69",
        "outputId": "140c9d39-8acb-4a33-be34-661578ec97e7"
      },
      "outputs": [
        {
          "output_type": "stream",
          "name": "stdout",
          "text": [
            "Hello! python!\n"
          ]
        }
      ],
      "source": [
        "print(\"Hello! python!\")"
      ]
    },
    {
      "cell_type": "code",
      "source": [
        "print(5+5)\n",
        "print(90-10)\n"
      ],
      "metadata": {
        "id": "P39L9N_yQiFc",
        "outputId": "c69d44d2-8c8a-4902-b5fe-05a7ce3d2a38",
        "colab": {
          "base_uri": "https://localhost:8080/"
        }
      },
      "execution_count": 6,
      "outputs": [
        {
          "output_type": "stream",
          "name": "stdout",
          "text": [
            "10\n",
            "80\n"
          ]
        }
      ]
    }
  ]
}