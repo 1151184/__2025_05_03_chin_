{
 "cells": [
  {
   "cell_type": "code",
   "execution_count": null,
   "id": "ea935787",
   "metadata": {},
   "outputs": [],
   "source": [
    "with open('names.csv', 'r', encoding='utf-8') as f:\n",
    "    content = f.read()\n",
    "    print(content)\n",
    "\n",
    "    type(open.read)\n"
   ]
  }
 ],
 "metadata": {
  "kernelspec": {
   "display_name": "myenv",
   "language": "python",
   "name": "python3"
  },
  "language_info": {
   "codemirror_mode": {
    "name": "ipython",
    "version": 3
   },
   "file_extension": ".py",
   "mimetype": "text/x-python",
   "name": "python",
   "nbconvert_exporter": "python",
   "pygments_lexer": "ipython3",
   "version": "3.10.18"
  }
 },
 "nbformat": 4,
 "nbformat_minor": 5
}
