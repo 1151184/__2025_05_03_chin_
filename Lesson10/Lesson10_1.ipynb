{
 "cells": [
  {
   "cell_type": "markdown",
   "id": "15b330a7",
   "metadata": {},
   "source": [
    "https://www.perplexity.ai/search/3fe51208-8e87-4055-9e80-8c6114ac49d3"
   ]
  },
  {
   "cell_type": "code",
   "execution_count": null,
   "id": "874b9578",
   "metadata": {},
   "outputs": [],
   "source": [
    "import csv\n",
    "with open('個股日成交資訊.csv',encoding='utf-8',newline='') as csvfile:\n",
    "    reader = csv.DictReader(csvfile)\n",
    "    next(reader)\n",
    "    stacks:list[list] = list(reader)\n",
    "stacks"
   ]
  },
  {
   "cell_type": "code",
   "execution_count": 61,
   "id": "e883b259",
   "metadata": {},
   "outputs": [
    {
     "name": "stdout",
     "output_type": "stream",
     "text": [
      "stacks 中共有 1113 筆資料。\n"
     ]
    }
   ],
   "source": [
    "import csv\n",
    "with open('個股日成交資訊.csv',encoding='utf-8',newline='') as csvfile:\n",
    "    reader = csv.DictReader(csvfile)\n",
    "    stacks:list[list] = list(reader)\n",
    "\n",
    "   # 印出 stacks 串列中的資料筆數\n",
    "print(f\"stacks 中共有 {len(stacks)} 筆資料。\") "
   ]
  },
  {
   "cell_type": "code",
   "execution_count": 75,
   "id": "0d7abe6c",
   "metadata": {},
   "outputs": [
    {
     "data": {
      "text/html": [
       "<div>\n",
       "<style scoped>\n",
       "    .dataframe tbody tr th:only-of-type {\n",
       "        vertical-align: middle;\n",
       "    }\n",
       "\n",
       "    .dataframe tbody tr th {\n",
       "        vertical-align: top;\n",
       "    }\n",
       "\n",
       "    .dataframe thead th {\n",
       "        text-align: right;\n",
       "    }\n",
       "</style>\n",
       "<table border=\"1\" class=\"dataframe\">\n",
       "  <thead>\n",
       "    <tr style=\"text-align: right;\">\n",
       "      <th></th>\n",
       "      <th>Unnamed: 0</th>\n",
       "      <th>證券代號</th>\n",
       "      <th>證券名稱</th>\n",
       "      <th>成交股數</th>\n",
       "      <th>成交金額</th>\n",
       "      <th>開盤價</th>\n",
       "      <th>最高價</th>\n",
       "      <th>最低價</th>\n",
       "      <th>收盤價</th>\n",
       "      <th>漲跌價差</th>\n",
       "      <th>成交筆數</th>\n",
       "    </tr>\n",
       "  </thead>\n",
       "  <tbody>\n",
       "    <tr>\n",
       "      <th>1108</th>\n",
       "      <td>1108</td>\n",
       "      <td>9944</td>\n",
       "      <td>新麗</td>\n",
       "      <td>1,463,020</td>\n",
       "      <td>22,024,560</td>\n",
       "      <td>15.60</td>\n",
       "      <td>15.60</td>\n",
       "      <td>14.60</td>\n",
       "      <td>14.65</td>\n",
       "      <td>-0.75</td>\n",
       "      <td>796</td>\n",
       "    </tr>\n",
       "    <tr>\n",
       "      <th>1109</th>\n",
       "      <td>1109</td>\n",
       "      <td>9945</td>\n",
       "      <td>潤泰新</td>\n",
       "      <td>5,262,676</td>\n",
       "      <td>178,768,894</td>\n",
       "      <td>34.20</td>\n",
       "      <td>34.30</td>\n",
       "      <td>33.40</td>\n",
       "      <td>33.40</td>\n",
       "      <td>-0.65</td>\n",
       "      <td>3,169</td>\n",
       "    </tr>\n",
       "    <tr>\n",
       "      <th>1110</th>\n",
       "      <td>1110</td>\n",
       "      <td>9946</td>\n",
       "      <td>三發地產</td>\n",
       "      <td>871,456</td>\n",
       "      <td>10,936,770</td>\n",
       "      <td>12.55</td>\n",
       "      <td>12.55</td>\n",
       "      <td>12.55</td>\n",
       "      <td>12.55</td>\n",
       "      <td>-1.35</td>\n",
       "      <td>46</td>\n",
       "    </tr>\n",
       "    <tr>\n",
       "      <th>1111</th>\n",
       "      <td>1111</td>\n",
       "      <td>9955</td>\n",
       "      <td>佳龍</td>\n",
       "      <td>827,246</td>\n",
       "      <td>10,257,476</td>\n",
       "      <td>13.10</td>\n",
       "      <td>13.10</td>\n",
       "      <td>11.85</td>\n",
       "      <td>12.10</td>\n",
       "      <td>-0.50</td>\n",
       "      <td>412</td>\n",
       "    </tr>\n",
       "    <tr>\n",
       "      <th>1112</th>\n",
       "      <td>1112</td>\n",
       "      <td>9958</td>\n",
       "      <td>世紀鋼</td>\n",
       "      <td>10,816,881</td>\n",
       "      <td>868,126,524</td>\n",
       "      <td>81.00</td>\n",
       "      <td>81.80</td>\n",
       "      <td>78.50</td>\n",
       "      <td>79.50</td>\n",
       "      <td>+0.90</td>\n",
       "      <td>6,743</td>\n",
       "    </tr>\n",
       "  </tbody>\n",
       "</table>\n",
       "</div>"
      ],
      "text/plain": [
       "      Unnamed: 0  證券代號  證券名稱        成交股數         成交金額    開盤價    最高價    最低價  \\\n",
       "1108        1108  9944    新麗   1,463,020   22,024,560  15.60  15.60  14.60   \n",
       "1109        1109  9945   潤泰新   5,262,676  178,768,894  34.20  34.30  33.40   \n",
       "1110        1110  9946  三發地產     871,456   10,936,770  12.55  12.55  12.55   \n",
       "1111        1111  9955    佳龍     827,246   10,257,476  13.10  13.10  11.85   \n",
       "1112        1112  9958   世紀鋼  10,816,881  868,126,524  81.00  81.80  78.50   \n",
       "\n",
       "        收盤價   漲跌價差   成交筆數  \n",
       "1108  14.65  -0.75    796  \n",
       "1109  33.40  -0.65  3,169  \n",
       "1110  12.55  -1.35     46  \n",
       "1111  12.10  -0.50    412  \n",
       "1112  79.50  +0.90  6,743  "
      ]
     },
     "execution_count": 75,
     "metadata": {},
     "output_type": "execute_result"
    }
   ],
   "source": [
    "import pandas as pd\n",
    "\n",
    "df1 = pd.read_excel('個股日成交資訊.xlsx')\n",
    "df1.to_excel('個股日成交資訊.xlsx',sheet_name='第1頁',index=False)\n",
    "\n",
    "df1.tail()\n"
   ]
  }
 ],
 "metadata": {
  "kernelspec": {
   "display_name": "myenv",
   "language": "python",
   "name": "python3"
  },
  "language_info": {
   "codemirror_mode": {
    "name": "ipython",
    "version": 3
   },
   "file_extension": ".py",
   "mimetype": "text/x-python",
   "name": "python",
   "nbconvert_exporter": "python",
   "pygments_lexer": "ipython3",
   "version": "3.10.18"
  }
 },
 "nbformat": 4,
 "nbformat_minor": 5
}
