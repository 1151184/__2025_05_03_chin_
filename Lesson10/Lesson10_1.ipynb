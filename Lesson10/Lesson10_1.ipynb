{
 "cells": [
  {
   "cell_type": "markdown",
   "id": "15b330a7",
   "metadata": {},
   "source": [
    "https://www.perplexity.ai/search/3fe51208-8e87-4055-9e80-8c6114ac49d3"
   ]
  },
  {
   "cell_type": "code",
   "execution_count": null,
   "id": "874b9578",
   "metadata": {},
   "outputs": [],
   "source": [
    "import csv\n",
    "with open('個股日成交資訊.csv',encoding='utf-8',newline='') as csvfile:\n",
    "    reader = csv.DictReader(csvfile)\n",
    "    next(reader)\n",
    "    stacks:list[list] = list(reader)\n",
    "stacks"
   ]
  },
  {
   "cell_type": "code",
   "execution_count": 61,
   "id": "e883b259",
   "metadata": {},
   "outputs": [
    {
     "name": "stdout",
     "output_type": "stream",
     "text": [
      "stacks 中共有 1113 筆資料。\n"
     ]
    }
   ],
   "source": [
    "import csv\n",
    "with open('個股日成交資訊.csv',encoding='utf-8',newline='') as csvfile:\n",
    "    reader = csv.DictReader(csvfile)\n",
    "    stacks:list[list] = list(reader)\n",
    "\n",
    "   # 印出 stacks 串列中的資料筆數\n",
    "print(f\"stacks 中共有 {len(stacks)} 筆資料。\") "
   ]
  },
  {
   "cell_type": "code",
   "execution_count": 73,
   "id": "0d7abe6c",
   "metadata": {},
   "outputs": [
    {
     "name": "stdout",
     "output_type": "stream",
     "text": [
      "      Unnamed: 0  證券代號     證券名稱        成交股數           成交金額    開盤價    最高價  \\\n",
      "0              0  0050   元大台灣50  46,790,503  3,463,425,684  74.95  75.25   \n",
      "1              1  0051  元大中型100      43,172      1,177,199  27.30  27.57   \n",
      "2              2  0052     富邦科技     161,425      9,156,750  57.60  57.60   \n",
      "3              3  0053     元大電子      35,076      1,163,448  33.36  33.61   \n",
      "4              4  0054   元大台商50      27,028        507,569  18.80  19.00   \n",
      "...          ...   ...      ...         ...            ...    ...    ...   \n",
      "1108        1108  9944       新麗   1,463,020     22,024,560  15.60  15.60   \n",
      "1109        1109  9945      潤泰新   5,262,676    178,768,894  34.20  34.30   \n",
      "1110        1110  9946     三發地產     871,456     10,936,770  12.55  12.55   \n",
      "1111        1111  9955       佳龍     827,246     10,257,476  13.10  13.10   \n",
      "1112        1112  9958      世紀鋼  10,816,881    868,126,524  81.00  81.80   \n",
      "\n",
      "        最低價    收盤價   漲跌價差    成交筆數  \n",
      "0     72.80  72.80  -2.05  23,021  \n",
      "1     26.75  26.75  -0.52      45  \n",
      "2     55.35  55.35  -2.35      67  \n",
      "3     32.56  32.69  -0.67      19  \n",
      "4     18.64  18.64  -0.36      13  \n",
      "...     ...    ...    ...     ...  \n",
      "1108  14.60  14.65  -0.75     796  \n",
      "1109  33.40  33.40  -0.65   3,169  \n",
      "1110  12.55  12.55  -1.35      46  \n",
      "1111  11.85  12.10  -0.50     412  \n",
      "1112  78.50  79.50  +0.90   6,743  \n",
      "\n",
      "[1113 rows x 11 columns]\n"
     ]
    }
   ],
   "source": [
    "import pandas as pd\n",
    "\n",
    "df1 = pd.read_excel('個股日成交資訊.xlsx')\n",
    "df1.to_excel('個股日成交資訊.xlsx',sheet_name='第1頁',index=False)\n",
    "\n",
    "print(df1)\n"
   ]
  }
 ],
 "metadata": {
  "kernelspec": {
   "display_name": "myenv",
   "language": "python",
   "name": "python3"
  },
  "language_info": {
   "codemirror_mode": {
    "name": "ipython",
    "version": 3
   },
   "file_extension": ".py",
   "mimetype": "text/x-python",
   "name": "python",
   "nbconvert_exporter": "python",
   "pygments_lexer": "ipython3",
   "version": "3.10.18"
  }
 },
 "nbformat": 4,
 "nbformat_minor": 5
}
