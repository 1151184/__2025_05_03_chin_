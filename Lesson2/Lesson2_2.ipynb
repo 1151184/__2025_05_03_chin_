{
  "nbformat": 4,
  "nbformat_minor": 0,
  "metadata": {
    "colab": {
      "provenance": [],
      "authorship_tag": "ABX9TyMlyoP1tbpiVTsz8pWCXtMu",
      "include_colab_link": true
    },
    "kernelspec": {
      "name": "python3",
      "display_name": "Python 3"
    },
    "language_info": {
      "name": "python"
    }
  },
  "cells": [
    {
      "cell_type": "markdown",
      "metadata": {
        "id": "view-in-github",
        "colab_type": "text"
      },
      "source": [
        "<a href=\"https://colab.research.google.com/github/1151184/__2025_05_03_chin_/blob/main/Lesson2/Lesson2_2.ipynb\" target=\"_parent\"><img src=\"https://colab.research.google.com/assets/colab-badge.svg\" alt=\"Open In Colab\"/></a>"
      ]
    },
    {
      "cell_type": "markdown",
      "source": [],
      "metadata": {
        "id": "nPZr8b05Fy2r"
      }
    },
    {
      "cell_type": "markdown",
      "source": [
        "###只有數值型別可以運算"
      ],
      "metadata": {
        "id": "VvKKU_qyF4fZ"
      }
    },
    {
      "cell_type": "code",
      "source": [
        "5+5\n",
        "5.0+5.0\n",
        "5+5.0"
      ],
      "metadata": {
        "colab": {
          "base_uri": "https://localhost:8080/"
        },
        "id": "lfNcawN6F7Nx",
        "outputId": "1ad7e149-5b0e-4272-ac49-de81dd0216a0"
      },
      "execution_count": 2,
      "outputs": [
        {
          "output_type": "execute_result",
          "data": {
            "text/plain": [
              "10.0"
            ]
          },
          "metadata": {},
          "execution_count": 2
        }
      ]
    },
    {
      "cell_type": "markdown",
      "source": [
        "###數字和字串無法數學運算"
      ],
      "metadata": {
        "id": "jP7JFMC-GSu4"
      }
    },
    {
      "cell_type": "code",
      "source": [
        "5+\"5\""
      ],
      "metadata": {
        "colab": {
          "base_uri": "https://localhost:8080/",
          "height": 141
        },
        "id": "fdHc6_7fGYLI",
        "outputId": "976ed00d-66b9-4b70-e265-d4afdf575335"
      },
      "execution_count": 3,
      "outputs": [
        {
          "output_type": "error",
          "ename": "TypeError",
          "evalue": "unsupported operand type(s) for +: 'int' and 'str'",
          "traceback": [
            "\u001b[0;31m---------------------------------------------------------------------------\u001b[0m",
            "\u001b[0;31mTypeError\u001b[0m                                 Traceback (most recent call last)",
            "\u001b[0;32m<ipython-input-3-76085b026109>\u001b[0m in \u001b[0;36m<cell line: 0>\u001b[0;34m()\u001b[0m\n\u001b[0;32m----> 1\u001b[0;31m \u001b[0;36m5\u001b[0m\u001b[0;34m+\u001b[0m\u001b[0;34m\"5\"\u001b[0m\u001b[0;34m\u001b[0m\u001b[0;34m\u001b[0m\u001b[0m\n\u001b[0m",
            "\u001b[0;31mTypeError\u001b[0m: unsupported operand type(s) for +: 'int' and 'str'"
          ]
        }
      ]
    },
    {
      "cell_type": "markdown",
      "source": [
        "###字串和字串可以相加,相乘"
      ],
      "metadata": {
        "id": "Nguf0CEaGydu"
      }
    },
    {
      "cell_type": "code",
      "source": [
        "\"5\"+\"5\"\n",
        "\"=\"*10"
      ],
      "metadata": {
        "colab": {
          "base_uri": "https://localhost:8080/",
          "height": 35
        },
        "id": "mWQyHOfSG7kO",
        "outputId": "15550acc-ca85-4827-face-7998d8d9e9c0"
      },
      "execution_count": 5,
      "outputs": [
        {
          "output_type": "execute_result",
          "data": {
            "text/plain": [
              "'=========='"
            ],
            "application/vnd.google.colaboratory.intrinsic+json": {
              "type": "string"
            }
          },
          "metadata": {},
          "execution_count": 5
        }
      ]
    },
    {
      "cell_type": "markdown",
      "source": [
        "###暫時轉換型別"
      ],
      "metadata": {
        "id": "wTMBFsa_HIs1"
      }
    },
    {
      "cell_type": "code",
      "source": [
        "5+float(\"5\")"
      ],
      "metadata": {
        "colab": {
          "base_uri": "https://localhost:8080/"
        },
        "id": "y5t2L849HLx-",
        "outputId": "d2c82497-a7e2-4ee7-8ce9-f15345207d0b"
      },
      "execution_count": 6,
      "outputs": [
        {
          "output_type": "execute_result",
          "data": {
            "text/plain": [
              "10.0"
            ]
          },
          "metadata": {},
          "execution_count": 6
        }
      ]
    },
    {
      "cell_type": "code",
      "source": [
        "width=float(input(\"請輸入矩形的寬度:\"))\n",
        "height=float(input(\"請輸入矩形的高度:\"))\n",
        "area=width*height\n",
        "print(\"矩形的面積為:\",area)"
      ],
      "metadata": {
        "colab": {
          "base_uri": "https://localhost:8080/"
        },
        "id": "XoIpvb3jHmc1",
        "outputId": "f589bc96-5824-4a9a-f844-3820c83119a6"
      },
      "execution_count": 12,
      "outputs": [
        {
          "output_type": "stream",
          "name": "stdout",
          "text": [
            "請輸入矩形的寬度:5.8\n",
            "請輸入矩形的高度:3.4\n",
            "矩形的面積為: 19.72\n"
          ]
        }
      ]
    },
    {
      "cell_type": "code",
      "source": [
        "import math\n",
        "side=float(input(\"請輸入對邊:\"))\n",
        "another_side=float(input(\"請輸入鄰邊:\"))\n",
        "answer=math.sqrt(side**2+another_side**2)\n",
        "type(answer)\n",
        "print(\"斜邊為:\",answer)"
      ],
      "metadata": {
        "colab": {
          "base_uri": "https://localhost:8080/"
        },
        "id": "zliGL5pcHx4P",
        "outputId": "461a0293-20f1-4b95-8dc5-cec64342cbc2"
      },
      "execution_count": 15,
      "outputs": [
        {
          "output_type": "stream",
          "name": "stdout",
          "text": [
            "請輸入對邊:1.1\n",
            "請輸入鄰邊:2.2\n",
            "斜邊為: 2.459674775249769\n"
          ]
        }
      ]
    }
  ]
}