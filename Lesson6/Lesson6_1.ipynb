{
 "cells": [
  {
   "cell_type": "markdown",
   "id": "d54025d9",
   "metadata": {},
   "source": [
    "#123"
   ]
  },
  {
   "cell_type": "code",
   "execution_count": 5,
   "id": "ac754547",
   "metadata": {},
   "outputs": [
    {
     "name": "stdout",
     "output_type": "stream",
     "text": [
      "HELLO\n"
     ]
    }
   ],
   "source": [
    "print(\"HELLO\")"
   ]
  }
 ],
 "metadata": {
  "kernelspec": {
   "display_name": "chink",
   "language": "python",
   "name": "python3"
  },
  "language_info": {
   "codemirror_mode": {
    "name": "ipython",
    "version": 3
   },
   "file_extension": ".py",
   "mimetype": "text/x-python",
   "name": "python",
   "nbconvert_exporter": "python",
   "pygments_lexer": "ipython3",
   "version": "3.10.16"
  }
 },
 "nbformat": 4,
 "nbformat_minor": 5
}
